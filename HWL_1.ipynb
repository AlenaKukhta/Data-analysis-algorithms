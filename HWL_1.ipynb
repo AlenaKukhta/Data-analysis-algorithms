{
 "cells": [
  {
   "cell_type": "markdown",
   "metadata": {},
   "source": [
    "# Практическое задание к Уроку 1. Алгоритм линейной регрессии. Градиентный спуск"
   ]
  },
  {
   "cell_type": "code",
   "execution_count": 1,
   "metadata": {},
   "outputs": [],
   "source": [
    "import numpy as np "
   ]
  },
  {
   "cell_type": "code",
   "execution_count": 2,
   "metadata": {},
   "outputs": [],
   "source": [
    "X = np.array([[1, 2, 3, 4, 5,\n",
    "               6, 7, 8, 9, 10],\n",
    "              [11, 12, 13, 14, 15, \n",
    "               16, 17, 18, 20, 21]])"
   ]
  },
  {
   "cell_type": "code",
   "execution_count": 3,
   "metadata": {},
   "outputs": [],
   "source": [
    "y = [40, 50, 60, 70, 80,\n",
    "    90, 10, 20, 30, 0]"
   ]
  },
  {
   "cell_type": "code",
   "execution_count": 4,
   "metadata": {},
   "outputs": [],
   "source": [
    "def calc_mse(y, y_pred):\n",
    "  err = np.mean((y - y_pred)**2)\n",
    "  return err"
   ]
  },
  {
   "cell_type": "markdown",
   "metadata": {},
   "source": [
    "## 1. Подберите скорость обучения (alpha) и количество итераций для градиентного спуска. "
   ]
  },
  {
   "cell_type": "code",
   "execution_count": 5,
   "metadata": {},
   "outputs": [
    {
     "name": "stdout",
     "output_type": "stream",
     "text": [
      "0 [3.1204 8.3003] 1983.025\n",
      "100 [2.11457339e+63 5.62672021e+63] 5.814268289972164e+128\n",
      "200 [1.94996923e+126 5.18872096e+126] 4.944302790406548e+254\n",
      "300 [1.79817831e+189 4.78481677e+189] inf\n",
      "400 [1.65820320e+252 4.41235358e+252] inf\n",
      "500 [nan nan] nan\n",
      "600 [nan nan] nan\n"
     ]
    },
    {
     "name": "stderr",
     "output_type": "stream",
     "text": [
      "/Users/alenakukhta/opt/anaconda3/lib/python3.8/site-packages/numpy/core/_methods.py:160: RuntimeWarning: overflow encountered in reduce\n",
      "  ret = umr_sum(arr, axis, dtype, out, keepdims)\n",
      "<ipython-input-4-66a11cf8bc1d>:2: RuntimeWarning: overflow encountered in square\n",
      "  err = np.mean((y - y_pred)**2)\n",
      "/Users/alenakukhta/opt/anaconda3/lib/python3.8/site-packages/numpy/core/fromnumeric.py:87: RuntimeWarning: overflow encountered in reduce\n",
      "  return ufunc.reduce(obj, axis, dtype, out, **passkwargs)\n",
      "<ipython-input-5-3c5b575f030d>:8: RuntimeWarning: invalid value encountered in double_scalars\n",
      "  W[k] -= alpha * (1/n * 2 * np.sum(X[k] * (y_pred - y)))\n"
     ]
    }
   ],
   "source": [
    "n = X.shape[1]\n",
    "alpha = 0.009\n",
    "W = np.array([1, 0.5])\n",
    "for i in range(700):\n",
    "  y_pred = np.dot(W, X)\n",
    "  err = calc_mse(y, y_pred)\n",
    "  for k in range(W.shape[0]):\n",
    "    W[k] -= alpha * (1/n * 2 * np.sum(X[k] * (y_pred - y)))\n",
    "  if i % 100 == 0:\n",
    "    print(i, W, err)"
   ]
  },
  {
   "cell_type": "markdown",
   "metadata": {},
   "source": [
    "## 2 (опция). В этом коде мы избавляемся от итераций по весам, но тут есть ошибка, исправьте ее:"
   ]
  },
  {
   "cell_type": "code",
   "execution_count": 6,
   "metadata": {},
   "outputs": [
    {
     "ename": "IndentationError",
     "evalue": "expected an indented block (<ipython-input-6-a8e5b1e34261>, line 3)",
     "output_type": "error",
     "traceback": [
      "\u001b[0;36m  File \u001b[0;32m\"<ipython-input-6-a8e5b1e34261>\"\u001b[0;36m, line \u001b[0;32m3\u001b[0m\n\u001b[0;31m    y_pred = np.dot(W, X)\u001b[0m\n\u001b[0m    ^\u001b[0m\n\u001b[0;31mIndentationError\u001b[0m\u001b[0;31m:\u001b[0m expected an indented block\n"
     ]
    }
   ],
   "source": [
    "# исходные данные:\n",
    "for i in range(1000):\n",
    "y_pred = np.dot(W, X)\n",
    "err = calc_mse(y, y_pred)\n",
    "'''for ii in range(W.shape[0]):\n",
    "W[ii] -= alpha * (1/n * 2 * np.sum(X[ii] * (y_pred - y)))'''\n",
    "W -= (alpha * (1/n * 2 * np.sum(X * (y_pred - y))))\n",
    "if i % 100 == 0:\n",
    "print(i, W, err)"
   ]
  },
  {
   "cell_type": "code",
   "execution_count": 7,
   "metadata": {},
   "outputs": [
    {
     "name": "stdout",
     "output_type": "stream",
     "text": [
      "0 [3.1204 8.3003] 1983.025\n",
      "100 [2.11457339e+63 5.62672021e+63] 5.814268289972164e+128\n",
      "200 [1.94996923e+126 5.18872096e+126] 4.944302790406548e+254\n",
      "300 [1.79817831e+189 4.78481677e+189] inf\n",
      "400 [1.65820320e+252 4.41235358e+252] inf\n",
      "500 [nan nan] nan\n",
      "600 [nan nan] nan\n",
      "700 [nan nan] nan\n",
      "800 [nan nan] nan\n",
      "900 [nan nan] nan\n"
     ]
    },
    {
     "name": "stderr",
     "output_type": "stream",
     "text": [
      "<ipython-input-4-66a11cf8bc1d>:2: RuntimeWarning: overflow encountered in square\n",
      "  err = np.mean((y - y_pred)**2)\n",
      "<ipython-input-7-080111df773a>:8: RuntimeWarning: invalid value encountered in subtract\n",
      "  W -= (alpha * (1/n * 2 * np.sum(X * (y_pred - y), axis=1)))\n"
     ]
    }
   ],
   "source": [
    "# решение:\n",
    "n = X.shape[1]\n",
    "alpha = 0.009\n",
    "W = np.array([1, 0.5])\n",
    "for i in range(1000):\n",
    "  y_pred = np.dot(W, X)\n",
    "  err = calc_mse(y, y_pred)\n",
    "  W -= (alpha * (1/n * 2 * np.sum(X * (y_pred - y), axis=1)))\n",
    "  if i % 100 == 0:\n",
    "    print(i, W, err)"
   ]
  },
  {
   "cell_type": "code",
   "execution_count": null,
   "metadata": {},
   "outputs": [],
   "source": []
  }
 ],
 "metadata": {
  "kernelspec": {
   "display_name": "Python 3",
   "language": "python",
   "name": "python3"
  },
  "language_info": {
   "codemirror_mode": {
    "name": "ipython",
    "version": 3
   },
   "file_extension": ".py",
   "mimetype": "text/x-python",
   "name": "python",
   "nbconvert_exporter": "python",
   "pygments_lexer": "ipython3",
   "version": "3.8.5"
  }
 },
 "nbformat": 4,
 "nbformat_minor": 4
}
